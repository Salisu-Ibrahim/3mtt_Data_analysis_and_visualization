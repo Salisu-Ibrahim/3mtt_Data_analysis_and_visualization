{
  "nbformat": 4,
  "nbformat_minor": 0,
  "metadata": {
    "colab": {
      "provenance": [],
      "authorship_tag": "ABX9TyPpNR7c+hB+zdlLFihLWt6/"
    },
    "kernelspec": {
      "name": "python3",
      "display_name": "Python 3"
    },
    "language_info": {
      "name": "python"
    }
  },
  "cells": [
    {
      "cell_type": "markdown",
      "source": [
        "# Week 4: Data Structures and Conditional Statements in Python In-Class Activity:\n"
      ],
      "metadata": {
        "id": "XWgy0qokJ3LQ"
      }
    },
    {
      "cell_type": "markdown",
      "source": [
        "LIST: Lists are ordered collections of items, which can be of any data type.\n",
        "They are mutable, meaning you can add, remove, or modify elements after the list is created.\n",
        "Lists are created using square brackets [] and can contain elements separated by commas."
      ],
      "metadata": {
        "id": "Zb5n_PyDKWM7"
      }
    },
    {
      "cell_type": "markdown",
      "source": [
        "LIST:"
      ],
      "metadata": {
        "id": "0edwTk4OKtGh"
      }
    },
    {
      "cell_type": "code",
      "execution_count": 20,
      "metadata": {
        "id": "K4qpKk7EJz4H"
      },
      "outputs": [],
      "source": [
        "# Creating a list with some values assign to it\n",
        "my_list = [1, 2, 3, 'hello', True]\n"
      ]
    },
    {
      "cell_type": "code",
      "source": [
        "# print the value of list\n",
        "print(my_list)"
      ],
      "metadata": {
        "colab": {
          "base_uri": "https://localhost:8080/",
          "height": 0
        },
        "id": "yk2VGlO0LgwA",
        "outputId": "0e76fa1b-061f-474a-9a1f-2eda24db7bfd"
      },
      "execution_count": 21,
      "outputs": [
        {
          "output_type": "stream",
          "name": "stdout",
          "text": [
            "[1, 2, 3, 'hello', True]\n"
          ]
        }
      ]
    },
    {
      "cell_type": "markdown",
      "source": [
        "TUPLES: Tuples are similar to lists but are immutable, meaning their elements cannot be changed after creation.\n",
        "They are created using parentheses () and can contain elements separated by commas.\n",
        "Tuples are often used for storing fixed collections of related data.\n"
      ],
      "metadata": {
        "id": "LbQD1wQpKzr2"
      }
    },
    {
      "cell_type": "markdown",
      "source": [
        "TUPLES:"
      ],
      "metadata": {
        "id": "ijZkkhXvLLYl"
      }
    },
    {
      "cell_type": "code",
      "source": [
        "# tuple\n",
        "my_tuple = (1, 2, 'world', 'jigawa', 2.5, 5.7)\n"
      ],
      "metadata": {
        "id": "-28aPYwNLJzl"
      },
      "execution_count": 22,
      "outputs": []
    },
    {
      "cell_type": "code",
      "source": [
        "new_my_tuple = (1,2, 'world', 'jigawa')"
      ],
      "metadata": {
        "id": "2Jg5_b1_w71n"
      },
      "execution_count": 23,
      "outputs": []
    },
    {
      "cell_type": "code",
      "source": [
        "new_my_tuple"
      ],
      "metadata": {
        "colab": {
          "base_uri": "https://localhost:8080/",
          "height": 0
        },
        "id": "vjWRi0wlxLf9",
        "outputId": "03baf4a4-416d-4680-ce20-f63f0759cc09"
      },
      "execution_count": 24,
      "outputs": [
        {
          "output_type": "execute_result",
          "data": {
            "text/plain": [
              "(1, 2, 'world', 'jigawa')"
            ]
          },
          "metadata": {},
          "execution_count": 24
        }
      ]
    },
    {
      "cell_type": "code",
      "source": [
        "b_my_tuple = my_tuple"
      ],
      "metadata": {
        "id": "pi1n8eqTxv7a"
      },
      "execution_count": 25,
      "outputs": []
    },
    {
      "cell_type": "code",
      "source": [
        "b_my_tuple"
      ],
      "metadata": {
        "colab": {
          "base_uri": "https://localhost:8080/",
          "height": 0
        },
        "id": "TDZbBVsryMvc",
        "outputId": "92679511-66c7-4baf-fada-e6aa8507d207"
      },
      "execution_count": 26,
      "outputs": [
        {
          "output_type": "execute_result",
          "data": {
            "text/plain": [
              "(1, 2, 'world', 'jigawa', 2.5, 5.7)"
            ]
          },
          "metadata": {},
          "execution_count": 26
        }
      ]
    },
    {
      "cell_type": "code",
      "source": [
        "my_tuple"
      ],
      "metadata": {
        "colab": {
          "base_uri": "https://localhost:8080/",
          "height": 0
        },
        "id": "NobI2rz8ya4k",
        "outputId": "c9baab5a-30e6-4a34-e793-e55fb13a9a66"
      },
      "execution_count": 27,
      "outputs": [
        {
          "output_type": "execute_result",
          "data": {
            "text/plain": [
              "(1, 2, 'world', 'jigawa', 2.5, 5.7)"
            ]
          },
          "metadata": {},
          "execution_count": 27
        }
      ]
    },
    {
      "cell_type": "code",
      "source": [
        "# printing the value of tuples\n",
        "print(my_tuple)"
      ],
      "metadata": {
        "colab": {
          "base_uri": "https://localhost:8080/",
          "height": 0
        },
        "id": "to2NlTUVLtZv",
        "outputId": "72a268bc-697a-4735-86b8-c143b4e8096c"
      },
      "execution_count": 28,
      "outputs": [
        {
          "output_type": "stream",
          "name": "stdout",
          "text": [
            "(1, 2, 'world', 'jigawa', 2.5, 5.7)\n"
          ]
        }
      ]
    },
    {
      "cell_type": "markdown",
      "source": [
        "SETS: Sets are unordered collections of unique elements.\n",
        "They do not allow duplicate elements, and the order of elements is not guaranteed.\n",
        "Sets are created using curly braces {} or the set() function."
      ],
      "metadata": {
        "id": "k6OKpUsKMBJE"
      }
    },
    {
      "cell_type": "markdown",
      "source": [
        "SETS:"
      ],
      "metadata": {
        "id": "jsfqyoIzMLUd"
      }
    },
    {
      "cell_type": "code",
      "source": [
        "# write a script that store some values and assign it to a vriable my_set\n",
        "my_set = {1, 2, 3, 4}"
      ],
      "metadata": {
        "id": "2aaw8QFKMOmk"
      },
      "execution_count": 37,
      "outputs": []
    },
    {
      "cell_type": "markdown",
      "source": [
        "Displaying the vslues of the sets"
      ],
      "metadata": {
        "id": "XoqK10cPMnSm"
      }
    },
    {
      "cell_type": "code",
      "source": [
        "# Displaying the vslues of the sets\n",
        "print(my_set)"
      ],
      "metadata": {
        "colab": {
          "base_uri": "https://localhost:8080/",
          "height": 0
        },
        "id": "jzR_AVbNMvDv",
        "outputId": "88e6c8d1-dd50-43a0-e302-8453c17c9518"
      },
      "execution_count": 38,
      "outputs": [
        {
          "output_type": "stream",
          "name": "stdout",
          "text": [
            "{1, 2, 3, 4}\n"
          ]
        }
      ]
    },
    {
      "cell_type": "code",
      "source": [
        "new_sets = {1, 2, 3, 4, 1, 2, 6, 8, 1, 2, 3, 4, 1, 2, 6, 8, 1, 2, 3, 4, 1, 2, 6, 8}"
      ],
      "metadata": {
        "id": "BjZMLUlwy_A2"
      },
      "execution_count": 45,
      "outputs": []
    },
    {
      "cell_type": "code",
      "source": [
        "new_sets"
      ],
      "metadata": {
        "colab": {
          "base_uri": "https://localhost:8080/",
          "height": 0
        },
        "id": "-omWvPN8zRHK",
        "outputId": "ad024dca-351b-4fae-d373-3149eeba89d9"
      },
      "execution_count": 46,
      "outputs": [
        {
          "output_type": "execute_result",
          "data": {
            "text/plain": [
              "{1, 2, 3, 4, 6, 8}"
            ]
          },
          "metadata": {},
          "execution_count": 46
        }
      ]
    },
    {
      "cell_type": "code",
      "source": [
        "an_set = {'name', 'number', 'address'}"
      ],
      "metadata": {
        "id": "ZzhsdtLczXrU"
      },
      "execution_count": 41,
      "outputs": []
    },
    {
      "cell_type": "code",
      "source": [
        "an_set"
      ],
      "metadata": {
        "colab": {
          "base_uri": "https://localhost:8080/",
          "height": 0
        },
        "id": "1phLA_jpzfqs",
        "outputId": "e39ce75f-dc40-4e22-a680-07f99856bc38"
      },
      "execution_count": 42,
      "outputs": [
        {
          "output_type": "execute_result",
          "data": {
            "text/plain": [
              "{'address', 'name', 'number'}"
            ]
          },
          "metadata": {},
          "execution_count": 42
        }
      ]
    },
    {
      "cell_type": "markdown",
      "source": [
        "DICTIONARIES: Dictionaries are unordered collections of key-value pairs.\n",
        "Each element in a dictionary consists of a key and its corresponding value, separated by a colon :.\n",
        "Dictionaries are created using curly braces {} and key-value pairs separated by commas."
      ],
      "metadata": {
        "id": "FNQpDHrKM3ZE"
      }
    },
    {
      "cell_type": "markdown",
      "source": [
        "EXAMPLE:"
      ],
      "metadata": {
        "id": "RV9XbkZhNHox"
      }
    },
    {
      "cell_type": "code",
      "source": [
        "# write a Dictionaries script that store some values and assign it to a vriable my_dict\n",
        "my_dict = {'name': 'Salisu', 'age': 30, 'city': 'New York'}"
      ],
      "metadata": {
        "id": "LYjh_xkTNKox"
      },
      "execution_count": 52,
      "outputs": []
    },
    {
      "cell_type": "markdown",
      "source": [
        "Displaying the Dict"
      ],
      "metadata": {
        "id": "T1m4YlHKNhmP"
      }
    },
    {
      "cell_type": "code",
      "source": [
        "# print the value of the dictionaries\n",
        "print(my_dict)"
      ],
      "metadata": {
        "colab": {
          "base_uri": "https://localhost:8080/",
          "height": 0
        },
        "id": "CrDX7I9sNnIO",
        "outputId": "7177ea58-5eb2-45d3-eb5e-a4cadeb4eac4"
      },
      "execution_count": 53,
      "outputs": [
        {
          "output_type": "stream",
          "name": "stdout",
          "text": [
            "{'name': 'Salisu', 'age': 30, 'city': 'New York'}\n"
          ]
        }
      ]
    },
    {
      "cell_type": "code",
      "source": [
        "my_dict"
      ],
      "metadata": {
        "colab": {
          "base_uri": "https://localhost:8080/",
          "height": 0
        },
        "id": "CVBPR7rjNvqf",
        "outputId": "28b49136-f0cf-4abe-82f1-c74941cd0574"
      },
      "execution_count": 33,
      "outputs": [
        {
          "output_type": "execute_result",
          "data": {
            "text/plain": [
              "{'name': 'Alice', 'age': 30, 'city': 'New York'}"
            ]
          },
          "metadata": {},
          "execution_count": 33
        }
      ]
    },
    {
      "cell_type": "markdown",
      "source": [
        "Introduce conditional statements and functions through practical examples and coding exercises.\n"
      ],
      "metadata": {
        "id": "y49Fr9SfODGX"
      }
    },
    {
      "cell_type": "markdown",
      "source": [
        "Conditional Statements: Conditional statements in Python allow you to execute different blocks of code based on whether a certain condition is true or false. The most commonly used conditional statements in Python are if, elif (short for \"else if\"), and else. Here's a simple example:"
      ],
      "metadata": {
        "id": "Rmx2PB77OJ7z"
      }
    },
    {
      "cell_type": "markdown",
      "source": [
        "Conditional Statements:In this example,\n",
        "If the value of x is greater than 0, the message \"x is positive\" will be printed.\n",
        "If the value of x is equal to 0, the message \"x is zero\" will be printed.\n",
        "Otherwise, if none of the above conditions are met, the message \"x is negative\" will be printed."
      ],
      "metadata": {
        "id": "SbHBwCb3OT5d"
      }
    },
    {
      "cell_type": "code",
      "source": [
        "# conditional statement\n",
        "x = 4\n",
        "\n",
        "if x < 0:\n",
        "    print(\"x is positive\")\n",
        "elif x == 0:\n",
        "    print(\"x is zero\")\n",
        "else:\n",
        "    print(\"x is lower\")\n"
      ],
      "metadata": {
        "colab": {
          "base_uri": "https://localhost:8080/",
          "height": 0
        },
        "id": "D4sdkNu4Nx7q",
        "outputId": "256f7ef5-1d1e-40c0-fbcd-458fb5360be6"
      },
      "execution_count": 71,
      "outputs": [
        {
          "output_type": "stream",
          "name": "stdout",
          "text": [
            "x is lower\n"
          ]
        }
      ]
    },
    {
      "cell_type": "code",
      "source": [
        "age = 10\n",
        "if age > 18:\n",
        "  print(\"eligible to vote\")\n",
        "else:\n",
        "  print(\"not eligble to vote\")"
      ],
      "metadata": {
        "colab": {
          "base_uri": "https://localhost:8080/",
          "height": 0
        },
        "id": "vw_bm_Ss5gE7",
        "outputId": "c0570217-f515-4ff0-fe7f-c501a0572762"
      },
      "execution_count": 76,
      "outputs": [
        {
          "output_type": "stream",
          "name": "stdout",
          "text": [
            "not eligble to vote\n"
          ]
        }
      ]
    },
    {
      "cell_type": "markdown",
      "source": [
        "Functions: Functions in Python allow you to encapsulate reusable blocks of code into named blocks, making your code modular and easier to understand. Here's an example of defining and using a function:"
      ],
      "metadata": {
        "id": "cSClB0ZSOgSv"
      }
    },
    {
      "cell_type": "markdown",
      "source": [
        "Function: In this example, greet is a function that takes one parameter name and prints a greeting message using that name. When you call the function greet(\"Maryam\"), it will print \"Hello, Maryam!\"."
      ],
      "metadata": {
        "id": "-lO1Dbb0O31s"
      }
    },
    {
      "cell_type": "code",
      "source": [
        "# Define a Function called greet\n",
        "def greet(name):\n",
        "    print(\"Hello, \" + name)\n",
        "\n",
        "# Call the function\n",
        "greet(\"Maryam\")\n"
      ],
      "metadata": {
        "colab": {
          "base_uri": "https://localhost:8080/",
          "height": 0
        },
        "id": "UNX6S8XrO8LG",
        "outputId": "ce270b16-9181-4dd3-bd86-cb463a4fe2cd"
      },
      "execution_count": 88,
      "outputs": [
        {
          "output_type": "stream",
          "name": "stdout",
          "text": [
            "Hello, Maryam\n"
          ]
        }
      ]
    },
    {
      "cell_type": "markdown",
      "source": [
        "Coding Exercise: Now, let's combine conditional statements and functions in a coding exercise. Write a Python function called check_even_odd that takes an integer as input and prints whether the number is even or odd. Here's a template to get you started:"
      ],
      "metadata": {
        "id": "oGM7fy7bPO2X"
      }
    },
    {
      "cell_type": "code",
      "source": [
        "# Coding example with function and conditonal statement\n",
        "def check_even_odd(num):\n",
        "    # Write your code here\n",
        "    if num % 2 == 0:\n",
        "        print(num, \"is even\")\n",
        "    else:\n",
        "        print(num, \"is odd\")\n",
        "\n",
        "# Test the function\n",
        "check_even_odd(10)\n",
        "check_even_odd(7)\n"
      ],
      "metadata": {
        "colab": {
          "base_uri": "https://localhost:8080/",
          "height": 0
        },
        "id": "mWwVm96wPZiI",
        "outputId": "c8c06faa-c001-4494-880b-b869705a4e7c"
      },
      "execution_count": 36,
      "outputs": [
        {
          "output_type": "stream",
          "name": "stdout",
          "text": [
            "10 is even\n",
            "7 is odd\n"
          ]
        }
      ]
    }
  ]
}